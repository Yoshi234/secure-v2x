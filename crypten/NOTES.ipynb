{
 "cells": [
  {
   "cell_type": "markdown",
   "metadata": {},
   "source": [
    "Below is some very basic python code which implements arithmetic secret sharing. "
   ]
  },
  {
   "cell_type": "code",
   "execution_count": 4,
   "metadata": {},
   "outputs": [],
   "source": [
    "import random \n",
    "\n",
    "def sum(shares:list):\n",
    "    sum = 0\n",
    "    for share in shares:\n",
    "        sum += share\n",
    "    return sum\n",
    "\n",
    "def additive_share(secret:int, Q:int, N:int):\n",
    "    '''\n",
    "    generates additive shares for some int, \"secret\"\n",
    "    args:\n",
    "    - secret --- the int to be shared secretly (additively)\n",
    "    - Q --- the number of elements in the ring of computation, random values are generated from 1 to Q.\n",
    "    - N --- the number of parties over which the secret is shared\n",
    "    returns:\n",
    "    - shares --- a list of the additive shares which generate the secret\n",
    "    '''\n",
    "    shares = [random.randrange(Q) for _ in range(N-1)]\n",
    "    print(\"old shares = {}\".format(shares))\n",
    "    shares += [(secret - sum(shares)) % Q]\n",
    "    print(\"new shares = {}\".format(shares))\n",
    "    return shares\n",
    "\n",
    "def additive_reconstruct(shares:list, Q:int):\n",
    "    return sum(shares) % Q"
   ]
  },
  {
   "cell_type": "code",
   "execution_count": 8,
   "metadata": {},
   "outputs": [
    {
     "name": "stdout",
     "output_type": "stream",
     "text": [
      "---- shares ----\n",
      "old shares = [133]\n",
      "new shares = [133, 177]\n",
      "---- value -----\n",
      "10\n"
     ]
    }
   ],
   "source": [
    "secret=10\n",
    "Q = 300\n",
    "N = 2\n",
    "print(\"---- shares ----\")\n",
    "shares = additive_share(secret=secret, Q=Q, N=N)\n",
    "print(\"---- value -----\")\n",
    "val = additive_reconstruct(shares, Q)\n",
    "print(val)\n",
    "assert val == secret\n"
   ]
  },
  {
   "cell_type": "code",
   "execution_count": 26,
   "metadata": {},
   "outputs": [
    {
     "data": {
      "text/plain": [
       "91"
      ]
     },
     "execution_count": 26,
     "metadata": {},
     "output_type": "execute_result"
    }
   ],
   "source": [
    "random.randrange(Q)"
   ]
  },
  {
   "cell_type": "markdown",
   "metadata": {},
   "source": [
    "Basic **CrypTen** Implementation Practice"
   ]
  },
  {
   "cell_type": "code",
   "execution_count": 1,
   "metadata": {},
   "outputs": [],
   "source": [
    "import torch, crypten"
   ]
  }
 ],
 "metadata": {
  "kernelspec": {
   "display_name": "base",
   "language": "python",
   "name": "python3"
  },
  "language_info": {
   "codemirror_mode": {
    "name": "ipython",
    "version": 3
   },
   "file_extension": ".py",
   "mimetype": "text/x-python",
   "name": "python",
   "nbconvert_exporter": "python",
   "pygments_lexer": "ipython3",
   "version": "3.10.12"
  }
 },
 "nbformat": 4,
 "nbformat_minor": 2
}
