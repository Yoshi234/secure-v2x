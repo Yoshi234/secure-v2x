{
 "cells": [
  {
   "cell_type": "code",
   "execution_count": 1,
   "metadata": {},
   "outputs": [],
   "source": [
    "import scipy.io as sio\n",
    "\n",
    "filename = r'dataset.mat'"
   ]
  },
  {
   "cell_type": "code",
   "execution_count": 2,
   "metadata": {},
   "outputs": [],
   "source": [
    "tmp_file = sio.loadmat(filename)"
   ]
  },
  {
   "cell_type": "code",
   "execution_count": 26,
   "metadata": {},
   "outputs": [],
   "source": [
    "import numpy as np\n",
    "\n",
    "xdata = np.array(tmp_file['EEGsample'])\n",
    "label = np.array(tmp_file['substate'])\n",
    "#the subIdx values assign the subject number to each corresponding\n",
    "#xdata value\n",
    "subIdx = np.array(tmp_file['subindex'])\n"
   ]
  },
  {
   "cell_type": "code",
   "execution_count": 13,
   "metadata": {},
   "outputs": [
    {
     "name": "stdout",
     "output_type": "stream",
     "text": [
      "(2022, 1)\n"
     ]
    }
   ],
   "source": [
    "print(label.shape)\n",
    "#label is a 2022 by 1 column vector (matrix)"
   ]
  },
  {
   "cell_type": "code",
   "execution_count": null,
   "metadata": {},
   "outputs": [],
   "source": [
    "for i in range(80, 100):\n",
    "    print(label[i])"
   ]
  },
  {
   "cell_type": "code",
   "execution_count": 27,
   "metadata": {},
   "outputs": [],
   "source": [
    "selectedchan = [28]\n",
    "\n",
    "xdata = xdata[:,selectedchan,:]\n",
    "\n",
    "channelnum = len(selectedchan)"
   ]
  },
  {
   "cell_type": "markdown",
   "metadata": {},
   "source": [
    "### Loading and Saving Pytorch Models\n",
    "1. run `torch.load(PATH)` to get a saved model into namespace. This will save the complete model\n",
    "2. run `torch.save(model, PATH)` to save a trained model or (partially trained model) to the pt model file\n",
    "3. to save the state of the model (get its parameters only) run `torch.save(model.state_dict(), PATH)`"
   ]
  },
  {
   "cell_type": "code",
   "execution_count": 29,
   "metadata": {},
   "outputs": [
    {
     "name": "stdout",
     "output_type": "stream",
     "text": [
      "[0. 0. 0. 0. 0. 0. 0. 0. 0. 0.]\n"
     ]
    }
   ],
   "source": [
    "import numpy as np\n",
    "\n",
    "new_array = np.zeros(10)\n",
    "print(new_array)"
   ]
  },
  {
   "cell_type": "code",
   "execution_count": 31,
   "metadata": {},
   "outputs": [
    {
     "name": "stdout",
     "output_type": "stream",
     "text": [
      "10\n"
     ]
    }
   ],
   "source": [
    "print(new_array.size)"
   ]
  },
  {
   "cell_type": "markdown",
   "metadata": {},
   "source": [
    "The .npy files in this directory contain the saved (pretrained) model weights for \n",
    "the compact_cnn model"
   ]
  },
  {
   "cell_type": "code",
   "execution_count": 5,
   "metadata": {},
   "outputs": [],
   "source": [
    "import numpy as np\n",
    "\n",
    "data = np.load('compactCNN.npy')"
   ]
  },
  {
   "cell_type": "code",
   "execution_count": 6,
   "metadata": {},
   "outputs": [
    {
     "data": {
      "text/plain": [
       "(2210,)"
      ]
     },
     "execution_count": 6,
     "metadata": {},
     "output_type": "execute_result"
    }
   ],
   "source": [
    "data.shape"
   ]
  },
  {
   "cell_type": "code",
   "execution_count": 3,
   "metadata": {},
   "outputs": [],
   "source": [
    "import os\n",
    "\n",
    "os.chdir('duplicate_results')\n",
    "os.mkdir('test_models')"
   ]
  },
  {
   "cell_type": "code",
   "execution_count": 4,
   "metadata": {},
   "outputs": [],
   "source": [
    "os.chdir('..')"
   ]
  },
  {
   "cell_type": "code",
   "execution_count": 5,
   "metadata": {},
   "outputs": [
    {
     "data": {
      "text/plain": [
       "['README.md',\n",
       " 'training.py',\n",
       " 'duplicate_results',\n",
       " 'eval_model.py',\n",
       " 'baseline_results',\n",
       " 'main.py',\n",
       " 'extract_weights.py',\n",
       " 'data',\n",
       " 'pretrained_torch_models',\n",
       " '__pycache__',\n",
       " 'pretrained_numpy_models',\n",
       " 'exploratory_analysis.ipynb']"
      ]
     },
     "execution_count": 5,
     "metadata": {},
     "output_type": "execute_result"
    }
   ],
   "source": [
    "os.listdir()"
   ]
  },
  {
   "cell_type": "code",
   "execution_count": 26,
   "metadata": {},
   "outputs": [],
   "source": [
    "import os\n",
    "val = os.listdir()\n",
    "\n",
    "def write_3(file_handle, value_list, start_index=0):\n",
    "    index = start_index\n",
    "    count = 0\n",
    "    while (count < 3) and (index < len(value_list)):\n",
    "        if not count == 2: file_handle.write(f'{index:4}:{value_list[index]:32}|')\n",
    "        else: file_handle.write(f'{index:4}:{value_list[index]:32}')\n",
    "        index += 1\n",
    "        count += 1\n",
    "    file_handle.write('\\n')\n",
    "\n",
    "def write_list_contents(list_obj, file_name):\n",
    "    list_len = len(list_obj)\n",
    "    iterations = list_len // 3 + 1\n",
    "    index = 0\n",
    "    with open(f'{file_name}', 'w') as f:\n",
    "        f.write(\"=\"*102)\n",
    "        f.write('\\n')\n",
    "        for i in range(iterations):\n",
    "            write_3(f, list_obj, index)\n",
    "            index += 3\n",
    "        f.write(\"=\"*102)\n",
    "        f.write('\\n')\n"
   ]
  },
  {
   "cell_type": "code",
   "execution_count": 30,
   "metadata": {},
   "outputs": [
    {
     "data": {
      "text/plain": [
       "['seed0', 'seed1']"
      ]
     },
     "execution_count": 30,
     "metadata": {},
     "output_type": "execute_result"
    }
   ],
   "source": [
    "os.listdir('duplicate_results/test_subj9_iterative_results')"
   ]
  },
  {
   "cell_type": "code",
   "execution_count": 33,
   "metadata": {},
   "outputs": [
    {
     "name": "stdout",
     "output_type": "stream",
     "text": [
      "key1 1\n",
      "key2 2\n",
      "key3 3\n",
      "key4 4\n"
     ]
    }
   ],
   "source": [
    "array = {'key1':1, 'key2':2}\n",
    "\n",
    "def set_values(array_dict):\n",
    "    array_dict['key3']=3\n",
    "    array_dict['key4']=4\n",
    "\n",
    "def print_dict(array_dict):\n",
    "    for key in array_dict:\n",
    "        print(key, array_dict[key])\n",
    "\n",
    "set_values(array)\n",
    "print_dict(array)"
   ]
  },
  {
   "cell_type": "code",
   "execution_count": 2,
   "metadata": {},
   "outputs": [
    {
     "data": {
      "text/plain": [
       "1.0152284263959401"
      ]
     },
     "execution_count": 2,
     "metadata": {},
     "output_type": "execute_result"
    }
   ],
   "source": [
    "import math\n",
    "\n",
    "def percent_dif(val1, val2):\n",
    "        percent_dif = math.fabs(val2 - val1)/((val2 + val1)/2) * 100\n",
    "        return percent_dif\n",
    "\n",
    "x = 0.98\n",
    "y = 0.99\n",
    "\n",
    "percent_dif(x, y)"
   ]
  },
  {
   "cell_type": "code",
   "execution_count": 5,
   "metadata": {},
   "outputs": [
    {
     "name": "stdout",
     "output_type": "stream",
     "text": [
      "17\n"
     ]
    }
   ],
   "source": [
    "def set_patience_parameter(percent_difference, current_p_parameter):\n",
    "        '''\n",
    "        if the percent difference is less than 0.5 for 10\n",
    "        rounds in a row, then terminate the sequence.\n",
    "\n",
    "        However, if percent patience rises above 0.5 during\n",
    "        one of those rounds, then reset the patience parameter\n",
    "        '''\n",
    "        if percent_difference < 0.5:\n",
    "            current_p_parameter +=1 \n",
    "        else: \n",
    "            current_p_parameter = 0\n",
    "        return current_p_parameter\n",
    "\n",
    "values = [1, 100, 20, 30, 40, 50, 10, 10, 10, 10, 10, 10, 10, 10, 10, 10, 10, 10, 10, 10, 10]\n",
    "\n",
    "patience_parameter = 0\n",
    "percent_difference = 100\n",
    "count = 0\n",
    "while patience_parameter < 10:\n",
    "    if count > 1:\n",
    "        percent_difference = percent_dif(values[count], values[count-1])\n",
    "        patience_parameter = set_patience_parameter(percent_difference, patience_parameter)\n",
    "    count +=1 \n",
    "\n",
    "print(count)"
   ]
  },
  {
   "cell_type": "code",
   "execution_count": null,
   "metadata": {},
   "outputs": [],
   "source": []
  }
 ],
 "metadata": {
  "kernelspec": {
   "display_name": "Python 3",
   "language": "python",
   "name": "python3"
  },
  "language_info": {
   "codemirror_mode": {
    "name": "ipython",
    "version": 3
   },
   "file_extension": ".py",
   "mimetype": "text/x-python",
   "name": "python",
   "nbconvert_exporter": "python",
   "pygments_lexer": "ipython3",
   "version": "3.10.6"
  },
  "orig_nbformat": 4
 },
 "nbformat": 4,
 "nbformat_minor": 2
}
