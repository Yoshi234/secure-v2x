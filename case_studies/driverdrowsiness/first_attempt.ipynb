{
 "cells": [
  {
   "cell_type": "markdown",
   "metadata": {},
   "source": [
    "<h1 style=\"color:DarkTurquoise\"> CrypTen Introduction / First Attempt </h1> \n",
    "\n",
    "This file contains code and notes for running the first implementation of CrypTen that I have tried. \n",
    "\n",
    "\n",
    "**NOTE**: once initial attempt is complete, please move this back into the crypten_case_studies folder within the driverdrowsiness application folder"
   ]
  },
  {
   "cell_type": "code",
   "execution_count": 1,
   "metadata": {},
   "outputs": [],
   "source": [
    "from models.crypten_compactcnn import CryptenCompactCNN\n",
    "import torch\n",
    "import crypten\n",
    "import crypten.mpc as mpc \n",
    "import crypten.communicator as comm \n",
    "import numpy as np"
   ]
  },
  {
   "cell_type": "code",
   "execution_count": 2,
   "metadata": {},
   "outputs": [],
   "source": [
    "# define the parties involved\n",
    "ALICE = 0\n",
    "BOB = 1\n",
    "\n",
    "crypten.init()\n",
    "torch.set_num_threads(1)"
   ]
  },
  {
   "cell_type": "code",
   "execution_count": 3,
   "metadata": {},
   "outputs": [],
   "source": [
    "crypten.common.serial.register_safe_class(CryptenCompactCNN)"
   ]
  },
  {
   "cell_type": "code",
   "execution_count": 15,
   "metadata": {},
   "outputs": [
    {
     "name": "stdout",
     "output_type": "stream",
     "text": [
      "CryptenCompactCNN(\n",
      "  (conv): Conv2d(1, 32, kernel_size=(1, 64), stride=(1, 1))\n",
      "  (batch): Batchlayer()\n",
      "  (fc): Linear(in_features=32, out_features=2, bias=True)\n",
      "  (softmax): LogSoftmax(dim=1)\n",
      ")\n",
      "Model successfully encrypted: True\n"
     ]
    },
    {
     "name": "stderr",
     "output_type": "stream",
     "text": [
      "/home/jjl20011/snap/snapd-desktop-integration/83/Lab/Projects/Project1-V2X-Secure2PC/v2x-delphi-2pc/case_studies/driverdrowsiness/models/crypten_compactcnn.py:69: TracerWarning: Converting a tensor to a Python integer might cause the trace to be incorrect. We can't record the data flow of Python values, so this value will be treated as a constant in the future. This means that the trace might not generalize to other inputs!\n",
      "  b = torch.div(data - mean, variance).expand(int(data.size(0)),\n",
      "/home/jjl20011/snap/snapd-desktop-integration/83/Lab/Projects/Project1-V2X-Secure2PC/v2x-delphi-2pc/case_studies/driverdrowsiness/models/crypten_compactcnn.py:70: TracerWarning: Converting a tensor to a Python integer might cause the trace to be incorrect. We can't record the data flow of Python values, so this value will be treated as a constant in the future. This means that the trace might not generalize to other inputs!\n",
      "  int(data.size(1)), int(data.size(2)), int(data.size(3)))\n",
      "/home/jjl20011/snap/snapd-desktop-integration/83/Lab/Projects/Project1-V2X-Secure2PC/v2x-delphi-2pc/case_studies/driverdrowsiness/models/crypten_compactcnn.py:89: TracerWarning: Converting a tensor to a Python integer might cause the trace to be incorrect. We can't record the data flow of Python values, so this value will be treated as a constant in the future. This means that the trace might not generalize to other inputs!\n",
      "  gammamatrix = self.gamma.expand(int(data.size(0)), int(\n",
      "/home/jjl20011/snap/snapd-desktop-integration/83/Lab/Projects/Project1-V2X-Secure2PC/v2x-delphi-2pc/case_studies/driverdrowsiness/models/crypten_compactcnn.py:90: TracerWarning: Converting a tensor to a Python integer might cause the trace to be incorrect. We can't record the data flow of Python values, so this value will be treated as a constant in the future. This means that the trace might not generalize to other inputs!\n",
      "  data.size(1)), int(data.size(2)), int(data.size(3)))\n",
      "/home/jjl20011/snap/snapd-desktop-integration/83/Lab/Projects/Project1-V2X-Secure2PC/v2x-delphi-2pc/case_studies/driverdrowsiness/models/crypten_compactcnn.py:91: TracerWarning: Converting a tensor to a Python integer might cause the trace to be incorrect. We can't record the data flow of Python values, so this value will be treated as a constant in the future. This means that the trace might not generalize to other inputs!\n",
      "  betamatrix = self.beta.expand(int(data.size(0)), int(\n",
      "/home/jjl20011/snap/snapd-desktop-integration/83/Lab/Projects/Project1-V2X-Secure2PC/v2x-delphi-2pc/case_studies/driverdrowsiness/models/crypten_compactcnn.py:92: TracerWarning: Converting a tensor to a Python integer might cause the trace to be incorrect. We can't record the data flow of Python values, so this value will be treated as a constant in the future. This means that the trace might not generalize to other inputs!\n",
      "  data.size(1)), int(data.size(2)), int(data.size(3)))\n"
     ]
    }
   ],
   "source": [
    "# load and encrypt network architecture\n",
    "dummy_model = CryptenCompactCNN()\n",
    "path = \"pretrained/sub9/model.pth\"\n",
    "\n",
    "# using CryptenCompactCNN simply replaces the way in which average pooling functions\n",
    "plaintext_model = CryptenCompactCNN()\n",
    "plaintext_model.load_state_dict(torch.load(path, map_location=\"cpu\"))\n",
    "print(plaintext_model)\n",
    "dummy_input = torch.empty((1,1,1,384))\n",
    "\n",
    "private_model = crypten.nn.from_pytorch(plaintext_model, dummy_input)\n",
    "private_model.encrypt(src=ALICE)\n",
    "print(\"Model successfully encrypted:\", private_model.encrypted)"
   ]
  },
  {
   "cell_type": "code",
   "execution_count": 4,
   "metadata": {},
   "outputs": [
    {
     "data": {
      "text/plain": [
       "torch.Size([314])"
      ]
     },
     "execution_count": 4,
     "metadata": {},
     "output_type": "execute_result"
    }
   ],
   "source": [
    "# separate the labels and the data points themselves into separate \".pth\" files to be compatible with CrypTen's system\n",
    "from sklearn.metrics import accuracy_score\n",
    "\n",
    "labels = torch.load(\"dev_work/test_features_labels/9-crypten_labels.pth\")\n",
    "labels.size()"
   ]
  },
  {
   "cell_type": "code",
   "execution_count": 34,
   "metadata": {},
   "outputs": [
    {
     "data": {
      "text/plain": [
       "torch.Size([314, 1, 1, 384])"
      ]
     },
     "execution_count": 34,
     "metadata": {},
     "output_type": "execute_result"
    }
   ],
   "source": [
    "features = crypten.load_from_party(\"dev_work/test_features_labels/9-crypten_features.pth\", src=ALICE)\n",
    "features.size()"
   ]
  },
  {
   "cell_type": "code",
   "execution_count": 5,
   "metadata": {},
   "outputs": [
    {
     "name": "stdout",
     "output_type": "stream",
     "text": [
      "CryptenCompactCNN(\n",
      "  (conv): Conv2d(1, 32, kernel_size=(1, 64), stride=(1, 1))\n",
      "  (batch): Batchlayer()\n",
      "  (fc): Linear(in_features=32, out_features=2, bias=True)\n",
      "  (softmax): LogSoftmax(dim=1)\n",
      ")\n",
      "CryptenCompactCNN(\n",
      "  (conv): Conv2d(1, 32, kernel_size=(1, 64), stride=(1, 1))\n",
      "  (batch): Batchlayer()\n",
      "  (fc): Linear(in_features=32, out_features=2, bias=True)\n",
      "  (softmax): LogSoftmax(dim=1)\n",
      ")\n"
     ]
    },
    {
     "name": "stderr",
     "output_type": "stream",
     "text": [
      "/home/jjl20011/snap/snapd-desktop-integration/83/Lab/Projects/Project1-V2X-Secure2PC/v2x-delphi-2pc/case_studies/driverdrowsiness/models/crypten_compactcnn.py:69: TracerWarning: Converting a tensor to a Python integer might cause the trace to be incorrect. We can't record the data flow of Python values, so this value will be treated as a constant in the future. This means that the trace might not generalize to other inputs!\n",
      "  b = torch.div(data - mean, variance).expand(int(data.size(0)),\n",
      "/home/jjl20011/snap/snapd-desktop-integration/83/Lab/Projects/Project1-V2X-Secure2PC/v2x-delphi-2pc/case_studies/driverdrowsiness/models/crypten_compactcnn.py:70: TracerWarning: Converting a tensor to a Python integer might cause the trace to be incorrect. We can't record the data flow of Python values, so this value will be treated as a constant in the future. This means that the trace might not generalize to other inputs!\n",
      "  int(data.size(1)), int(data.size(2)), int(data.size(3)))\n",
      "/home/jjl20011/snap/snapd-desktop-integration/83/Lab/Projects/Project1-V2X-Secure2PC/v2x-delphi-2pc/case_studies/driverdrowsiness/models/crypten_compactcnn.py:89: TracerWarning: Converting a tensor to a Python integer might cause the trace to be incorrect. We can't record the data flow of Python values, so this value will be treated as a constant in the future. This means that the trace might not generalize to other inputs!\n",
      "  gammamatrix = self.gamma.expand(int(data.size(0)), int(\n",
      "/home/jjl20011/snap/snapd-desktop-integration/83/Lab/Projects/Project1-V2X-Secure2PC/v2x-delphi-2pc/case_studies/driverdrowsiness/models/crypten_compactcnn.py:69: TracerWarning: Converting a tensor to a Python integer might cause the trace to be incorrect. We can't record the data flow of Python values, so this value will be treated as a constant in the future. This means that the trace might not generalize to other inputs!\n",
      "  b = torch.div(data - mean, variance).expand(int(data.size(0)),\n",
      "/home/jjl20011/snap/snapd-desktop-integration/83/Lab/Projects/Project1-V2X-Secure2PC/v2x-delphi-2pc/case_studies/driverdrowsiness/models/crypten_compactcnn.py:90: TracerWarning: Converting a tensor to a Python integer might cause the trace to be incorrect. We can't record the data flow of Python values, so this value will be treated as a constant in the future. This means that the trace might not generalize to other inputs!\n",
      "  data.size(1)), int(data.size(2)), int(data.size(3)))\n",
      "/home/jjl20011/snap/snapd-desktop-integration/83/Lab/Projects/Project1-V2X-Secure2PC/v2x-delphi-2pc/case_studies/driverdrowsiness/models/crypten_compactcnn.py:70: TracerWarning: Converting a tensor to a Python integer might cause the trace to be incorrect. We can't record the data flow of Python values, so this value will be treated as a constant in the future. This means that the trace might not generalize to other inputs!\n",
      "  int(data.size(1)), int(data.size(2)), int(data.size(3)))\n",
      "/home/jjl20011/snap/snapd-desktop-integration/83/Lab/Projects/Project1-V2X-Secure2PC/v2x-delphi-2pc/case_studies/driverdrowsiness/models/crypten_compactcnn.py:91: TracerWarning: Converting a tensor to a Python integer might cause the trace to be incorrect. We can't record the data flow of Python values, so this value will be treated as a constant in the future. This means that the trace might not generalize to other inputs!\n",
      "  betamatrix = self.beta.expand(int(data.size(0)), int(\n",
      "/home/jjl20011/snap/snapd-desktop-integration/83/Lab/Projects/Project1-V2X-Secure2PC/v2x-delphi-2pc/case_studies/driverdrowsiness/models/crypten_compactcnn.py:89: TracerWarning: Converting a tensor to a Python integer might cause the trace to be incorrect. We can't record the data flow of Python values, so this value will be treated as a constant in the future. This means that the trace might not generalize to other inputs!\n",
      "  gammamatrix = self.gamma.expand(int(data.size(0)), int(\n",
      "/home/jjl20011/snap/snapd-desktop-integration/83/Lab/Projects/Project1-V2X-Secure2PC/v2x-delphi-2pc/case_studies/driverdrowsiness/models/crypten_compactcnn.py:92: TracerWarning: Converting a tensor to a Python integer might cause the trace to be incorrect. We can't record the data flow of Python values, so this value will be treated as a constant in the future. This means that the trace might not generalize to other inputs!\n",
      "  data.size(1)), int(data.size(2)), int(data.size(3)))\n",
      "/home/jjl20011/snap/snapd-desktop-integration/83/Lab/Projects/Project1-V2X-Secure2PC/v2x-delphi-2pc/case_studies/driverdrowsiness/models/crypten_compactcnn.py:90: TracerWarning: Converting a tensor to a Python integer might cause the trace to be incorrect. We can't record the data flow of Python values, so this value will be treated as a constant in the future. This means that the trace might not generalize to other inputs!\n",
      "  data.size(1)), int(data.size(2)), int(data.size(3)))\n",
      "/home/jjl20011/snap/snapd-desktop-integration/83/Lab/Projects/Project1-V2X-Secure2PC/v2x-delphi-2pc/case_studies/driverdrowsiness/models/crypten_compactcnn.py:91: TracerWarning: Converting a tensor to a Python integer might cause the trace to be incorrect. We can't record the data flow of Python values, so this value will be treated as a constant in the future. This means that the trace might not generalize to other inputs!\n",
      "  betamatrix = self.beta.expand(int(data.size(0)), int(\n",
      "/home/jjl20011/snap/snapd-desktop-integration/83/Lab/Projects/Project1-V2X-Secure2PC/v2x-delphi-2pc/case_studies/driverdrowsiness/models/crypten_compactcnn.py:92: TracerWarning: Converting a tensor to a Python integer might cause the trace to be incorrect. We can't record the data flow of Python values, so this value will be treated as a constant in the future. This means that the trace might not generalize to other inputs!\n",
      "  data.size(1)), int(data.size(2)), int(data.size(3)))\n",
      "/home/jjl20011/miniconda3/envs/crypten_env/lib/python3.7/site-packages/crypten/nn/onnx_converter.py:176: UserWarning: The given NumPy array is not writable, and PyTorch does not support non-writable tensors. This means writing to this tensor will result in undefined behavior. You may want to copy the array to protect its data or make it writable before converting it to a tensor. This type of warning will be suppressed for the rest of this program. (Triggered internally at ../torch/csrc/utils/tensor_numpy.cpp:199.)\n",
      "  param = torch.from_numpy(numpy_helper.to_array(node))\n",
      "/home/jjl20011/miniconda3/envs/crypten_env/lib/python3.7/site-packages/crypten/nn/onnx_converter.py:176: UserWarning: The given NumPy array is not writable, and PyTorch does not support non-writable tensors. This means writing to this tensor will result in undefined behavior. You may want to copy the array to protect its data or make it writable before converting it to a tensor. This type of warning will be suppressed for the rest of this program. (Triggered internally at ../torch/csrc/utils/tensor_numpy.cpp:199.)\n",
      "  param = torch.from_numpy(numpy_helper.to_array(node))\n"
     ]
    },
    {
     "name": "stdout",
     "output_type": "stream",
     "text": [
      "Progress = 0.04777070063694268Progress = 0.04777070063694268\n",
      "\n",
      "Progress = 0.09872611464968153Progress = 0.09872611464968153\n",
      "\n",
      "Progress = 0.14968152866242038Progress = 0.14968152866242038\n",
      "\n",
      "Progress = 0.20063694267515925\n",
      "Progress = 0.20063694267515925\n",
      "Progress = 0.2515923566878981Progress = 0.2515923566878981\n",
      "\n",
      "Progress = 0.30254777070063693Progress = 0.30254777070063693\n",
      "\n",
      "Progress = 0.3535031847133758Progress = 0.3535031847133758\n",
      "\n",
      "Progress = 0.40445859872611467Progress = 0.40445859872611467\n",
      "\n",
      "Progress = 0.4554140127388535Progress = 0.4554140127388535\n",
      "\n",
      "Progress = 0.5063694267515924Progress = 0.5063694267515924\n",
      "\n",
      "Progress = 0.5573248407643312Progress = 0.5573248407643312\n",
      "\n",
      "Progress = 0.60828025477707Progress = 0.60828025477707\n",
      "\n",
      "Progress = 0.6592356687898089Progress = 0.6592356687898089\n",
      "\n",
      "Progress = 0.7101910828025477Progress = 0.7101910828025477\n",
      "\n",
      "Progress = 0.7611464968152867Progress = 0.7611464968152867\n",
      "\n",
      "Progress = 0.8121019108280255Progress = 0.8121019108280255\n",
      "\n",
      "Progress = 0.8630573248407644Progress = 0.8630573248407644\n",
      "\n",
      "Progress = 0.9140127388535032Progress = 0.9140127388535032\n",
      "\n",
      "Progress = 0.964968152866242Progress = 0.964968152866242\n",
      "\n",
      "accuracy = 0.8184713375796179accuracy = 0.8184713375796179\n",
      "\n"
     ]
    },
    {
     "data": {
      "text/plain": [
       "[None, None]"
      ]
     },
     "execution_count": 5,
     "metadata": {},
     "output_type": "execute_result"
    }
   ],
   "source": [
    "@mpc.run_multiprocess(world_size=2)\n",
    "def sequential_eval():\n",
    "    '''\n",
    "    iteratively perform inference (as with Delphi)\n",
    "    '''\n",
    "    path = \"pretrained/sub9/model.pth\"\n",
    "    # load pre-trained model to Alice\n",
    "    plaintext_model = CryptenCompactCNN()\n",
    "    plaintext_model.load_state_dict(torch.load(path, map_location=\"cpu\"))\n",
    "    print(plaintext_model)\n",
    "    # fitting a single input for each run of the model\n",
    "    dummy_input = torch.empty((1,1,1,384))\n",
    "\n",
    "    private_model = crypten.nn.from_pytorch(plaintext_model, dummy_input)\n",
    "    private_model.encrypt(src=ALICE)\n",
    "\n",
    "    # load data to Bob\n",
    "    features = crypten.load_from_party(\"dev_work/test_features_labels/9-crypten_features.pth\", src=BOB)\n",
    "    # is this step necessary? try it out once the multiprocess thing works properly\n",
    "    pred_array = np.zeros(len(features))\n",
    "    current = 0\n",
    "    for i in range(len(features)): \n",
    "        current += 1\n",
    "        if current > 15:\n",
    "            print(\"Progress = {}\".format(i/len(features)))\n",
    "            current = 0\n",
    "        # print(features[i].reshape((1,1,1,384)).size())\n",
    "        output_enc = private_model(features[i])\n",
    "        pred = output_enc.get_plain_text()\n",
    "        pred = pred.argmax(axis=-1)\n",
    "        # print(pred)\n",
    "        if labels[i] == pred[0]: pred_array[i] = 1\n",
    "        else: pred_array[i] = 0\n",
    "    acc = np.sum(pred_array)/len(features)\n",
    "    print(\"accuracy = {}\".format(acc))\n",
    "\n",
    "sequential_eval()"
   ]
  },
  {
   "cell_type": "code",
   "execution_count": 7,
   "metadata": {},
   "outputs": [
    {
     "data": {
      "text/plain": [
       "0.8474522292993631"
      ]
     },
     "execution_count": 7,
     "metadata": {},
     "output_type": "execute_result"
    }
   ],
   "source": [
    "(4*60 + 26.1)/314"
   ]
  },
  {
   "cell_type": "code",
   "execution_count": 6,
   "metadata": {},
   "outputs": [
    {
     "name": "stdout",
     "output_type": "stream",
     "text": [
      "CryptenCompactCNN(\n",
      "  (conv): Conv2d(1, 32, kernel_size=(1, 64), stride=(1, 1))\n",
      "  (batch): Batchlayer()\n",
      "  (fc): Linear(in_features=32, out_features=2, bias=True)\n",
      "  (softmax): LogSoftmax(dim=1)\n",
      ")\n",
      "CryptenCompactCNN(\n",
      "  (conv): Conv2d(1, 32, kernel_size=(1, 64), stride=(1, 1))\n",
      "  (batch): Batchlayer()\n",
      "  (fc): Linear(in_features=32, out_features=2, bias=True)\n",
      "  (softmax): LogSoftmax(dim=1)\n",
      ")\n"
     ]
    },
    {
     "name": "stderr",
     "output_type": "stream",
     "text": [
      "/home/jjl20011/snap/snapd-desktop-integration/83/Lab/Projects/Project1-V2X-Secure2PC/v2x-delphi-2pc/case_studies/driverdrowsiness/models/crypten_compactcnn.py:69: TracerWarning: Converting a tensor to a Python integer might cause the trace to be incorrect. We can't record the data flow of Python values, so this value will be treated as a constant in the future. This means that the trace might not generalize to other inputs!\n",
      "  b = torch.div(data - mean, variance).expand(int(data.size(0)),\n",
      "/home/jjl20011/snap/snapd-desktop-integration/83/Lab/Projects/Project1-V2X-Secure2PC/v2x-delphi-2pc/case_studies/driverdrowsiness/models/crypten_compactcnn.py:70: TracerWarning: Converting a tensor to a Python integer might cause the trace to be incorrect. We can't record the data flow of Python values, so this value will be treated as a constant in the future. This means that the trace might not generalize to other inputs!\n",
      "  int(data.size(1)), int(data.size(2)), int(data.size(3)))\n",
      "/home/jjl20011/snap/snapd-desktop-integration/83/Lab/Projects/Project1-V2X-Secure2PC/v2x-delphi-2pc/case_studies/driverdrowsiness/models/crypten_compactcnn.py:89: TracerWarning: Converting a tensor to a Python integer might cause the trace to be incorrect. We can't record the data flow of Python values, so this value will be treated as a constant in the future. This means that the trace might not generalize to other inputs!\n",
      "  gammamatrix = self.gamma.expand(int(data.size(0)), int(\n",
      "/home/jjl20011/snap/snapd-desktop-integration/83/Lab/Projects/Project1-V2X-Secure2PC/v2x-delphi-2pc/case_studies/driverdrowsiness/models/crypten_compactcnn.py:90: TracerWarning: Converting a tensor to a Python integer might cause the trace to be incorrect. We can't record the data flow of Python values, so this value will be treated as a constant in the future. This means that the trace might not generalize to other inputs!\n",
      "  data.size(1)), int(data.size(2)), int(data.size(3)))\n",
      "/home/jjl20011/snap/snapd-desktop-integration/83/Lab/Projects/Project1-V2X-Secure2PC/v2x-delphi-2pc/case_studies/driverdrowsiness/models/crypten_compactcnn.py:91: TracerWarning: Converting a tensor to a Python integer might cause the trace to be incorrect. We can't record the data flow of Python values, so this value will be treated as a constant in the future. This means that the trace might not generalize to other inputs!\n",
      "  betamatrix = self.beta.expand(int(data.size(0)), int(\n",
      "/home/jjl20011/snap/snapd-desktop-integration/83/Lab/Projects/Project1-V2X-Secure2PC/v2x-delphi-2pc/case_studies/driverdrowsiness/models/crypten_compactcnn.py:92: TracerWarning: Converting a tensor to a Python integer might cause the trace to be incorrect. We can't record the data flow of Python values, so this value will be treated as a constant in the future. This means that the trace might not generalize to other inputs!\n",
      "  data.size(1)), int(data.size(2)), int(data.size(3)))\n",
      "/home/jjl20011/snap/snapd-desktop-integration/83/Lab/Projects/Project1-V2X-Secure2PC/v2x-delphi-2pc/case_studies/driverdrowsiness/models/crypten_compactcnn.py:69: TracerWarning: Converting a tensor to a Python integer might cause the trace to be incorrect. We can't record the data flow of Python values, so this value will be treated as a constant in the future. This means that the trace might not generalize to other inputs!\n",
      "  b = torch.div(data - mean, variance).expand(int(data.size(0)),\n",
      "/home/jjl20011/snap/snapd-desktop-integration/83/Lab/Projects/Project1-V2X-Secure2PC/v2x-delphi-2pc/case_studies/driverdrowsiness/models/crypten_compactcnn.py:70: TracerWarning: Converting a tensor to a Python integer might cause the trace to be incorrect. We can't record the data flow of Python values, so this value will be treated as a constant in the future. This means that the trace might not generalize to other inputs!\n",
      "  int(data.size(1)), int(data.size(2)), int(data.size(3)))\n",
      "/home/jjl20011/snap/snapd-desktop-integration/83/Lab/Projects/Project1-V2X-Secure2PC/v2x-delphi-2pc/case_studies/driverdrowsiness/models/crypten_compactcnn.py:89: TracerWarning: Converting a tensor to a Python integer might cause the trace to be incorrect. We can't record the data flow of Python values, so this value will be treated as a constant in the future. This means that the trace might not generalize to other inputs!\n",
      "  gammamatrix = self.gamma.expand(int(data.size(0)), int(\n",
      "/home/jjl20011/snap/snapd-desktop-integration/83/Lab/Projects/Project1-V2X-Secure2PC/v2x-delphi-2pc/case_studies/driverdrowsiness/models/crypten_compactcnn.py:90: TracerWarning: Converting a tensor to a Python integer might cause the trace to be incorrect. We can't record the data flow of Python values, so this value will be treated as a constant in the future. This means that the trace might not generalize to other inputs!\n",
      "  data.size(1)), int(data.size(2)), int(data.size(3)))\n",
      "/home/jjl20011/snap/snapd-desktop-integration/83/Lab/Projects/Project1-V2X-Secure2PC/v2x-delphi-2pc/case_studies/driverdrowsiness/models/crypten_compactcnn.py:91: TracerWarning: Converting a tensor to a Python integer might cause the trace to be incorrect. We can't record the data flow of Python values, so this value will be treated as a constant in the future. This means that the trace might not generalize to other inputs!\n",
      "  betamatrix = self.beta.expand(int(data.size(0)), int(\n",
      "/home/jjl20011/snap/snapd-desktop-integration/83/Lab/Projects/Project1-V2X-Secure2PC/v2x-delphi-2pc/case_studies/driverdrowsiness/models/crypten_compactcnn.py:92: TracerWarning: Converting a tensor to a Python integer might cause the trace to be incorrect. We can't record the data flow of Python values, so this value will be treated as a constant in the future. This means that the trace might not generalize to other inputs!\n",
      "  data.size(1)), int(data.size(2)), int(data.size(3)))\n",
      "/home/jjl20011/miniconda3/envs/crypten_env/lib/python3.7/site-packages/crypten/nn/onnx_converter.py:176: UserWarning: The given NumPy array is not writable, and PyTorch does not support non-writable tensors. This means writing to this tensor will result in undefined behavior. You may want to copy the array to protect its data or make it writable before converting it to a tensor. This type of warning will be suppressed for the rest of this program. (Triggered internally at ../torch/csrc/utils/tensor_numpy.cpp:199.)\n",
      "  param = torch.from_numpy(numpy_helper.to_array(node))\n",
      "/home/jjl20011/miniconda3/envs/crypten_env/lib/python3.7/site-packages/crypten/nn/onnx_converter.py:176: UserWarning: The given NumPy array is not writable, and PyTorch does not support non-writable tensors. This means writing to this tensor will result in undefined behavior. You may want to copy the array to protect its data or make it writable before converting it to a tensor. This type of warning will be suppressed for the rest of this program. (Triggered internally at ../torch/csrc/utils/tensor_numpy.cpp:199.)\n",
      "  param = torch.from_numpy(numpy_helper.to_array(node))\n"
     ]
    },
    {
     "name": "stdout",
     "output_type": "stream",
     "text": [
      "torch.Size([314, 2])"
     ]
    },
    {
     "name": "stderr",
     "output_type": "stream",
     "text": [
      "Process Process-4:\n"
     ]
    },
    {
     "name": "stdout",
     "output_type": "stream",
     "text": [
      "\n"
     ]
    },
    {
     "name": "stderr",
     "output_type": "stream",
     "text": [
      "Process Process-3:\n",
      "Traceback (most recent call last):\n",
      "  File \"/home/jjl20011/miniconda3/envs/crypten_env/lib/python3.7/multiprocessing/process.py\", line 297, in _bootstrap\n",
      "    self.run()\n",
      "Traceback (most recent call last):\n",
      "  File \"/home/jjl20011/miniconda3/envs/crypten_env/lib/python3.7/multiprocessing/process.py\", line 99, in run\n",
      "    self._target(*self._args, **self._kwargs)\n",
      "  File \"/home/jjl20011/miniconda3/envs/crypten_env/lib/python3.7/multiprocessing/process.py\", line 297, in _bootstrap\n",
      "    self.run()\n",
      "  File \"/home/jjl20011/miniconda3/envs/crypten_env/lib/python3.7/site-packages/crypten/mpc/context.py\", line 30, in _launch\n",
      "    return_value = func(*func_args, **func_kwargs)\n",
      "  File \"/home/jjl20011/miniconda3/envs/crypten_env/lib/python3.7/multiprocessing/process.py\", line 99, in run\n",
      "    self._target(*self._args, **self._kwargs)\n",
      "  File \"/tmp/ipykernel_3293340/744888656.py\", line 33, in evaluate_model\n",
      "    accuracy = compute_accuracy(output, labels)\n",
      "  File \"/home/jjl20011/miniconda3/envs/crypten_env/lib/python3.7/site-packages/crypten/mpc/context.py\", line 30, in _launch\n",
      "    return_value = func(*func_args, **func_kwargs)\n",
      "NameError: name 'labels' is not defined\n",
      "  File \"/tmp/ipykernel_3293340/744888656.py\", line 33, in evaluate_model\n",
      "    accuracy = compute_accuracy(output, labels)\n",
      "NameError: name 'labels' is not defined\n",
      "ERROR:root:One of the parties failed. Check past logs\n"
     ]
    }
   ],
   "source": [
    "def compute_accuracy(output, labels):\n",
    "    # need to convert this to cpu or numpy? experiment once multiprocess decorator begins to work properly\n",
    "    pred = output.argmax(axis=-1)\n",
    "    correct = pred.eq(labels)\n",
    "    correct_count = correct.sum(0, keepdim=True).float()\n",
    "    accuracy = correct_count.mul_(100.0 / output.size(0))\n",
    "    return accuracy\n",
    "\n",
    "@mpc.run_multiprocess(world_size=2)\n",
    "def evaluate_model():\n",
    "    path = \"pretrained/sub9/model.pth\"\n",
    "    # load pre-trained model to Alice\n",
    "    plaintext_model = CryptenCompactCNN()\n",
    "    plaintext_model.load_state_dict(torch.load(path, map_location=\"cpu\"))\n",
    "    print(plaintext_model)\n",
    "    dummy_input = torch.empty((314,1,1,384))\n",
    "\n",
    "    private_model = crypten.nn.from_pytorch(plaintext_model, dummy_input)\n",
    "    private_model.encrypt(src=ALICE)\n",
    "    \n",
    "    # load data to Bob\n",
    "    features = crypten.load_from_party(\"dev_work/test_features_labels/9-crypten_features.pth\", src=BOB)\n",
    "    # is this step necessary? try it out once the multiprocess thing works properly\n",
    "    # flattened_features = features.flatten(start_dim=1)\n",
    "\n",
    "    # classify the encrypted data\n",
    "    private_model.eval()\n",
    "    output_enc = private_model(features)\n",
    "\n",
    "    # compute the accuracy\n",
    "    output = output_enc.get_plain_text()\n",
    "    crypten.print(output.size())\n",
    "    accuracy = compute_accuracy(output, labels)\n",
    "    crypten.print(\"\\tAccuracy: {0:.4f}\".format(accuracy.item()))\n",
    "\n",
    "evaluate_model()"
   ]
  },
  {
   "cell_type": "markdown",
   "metadata": {},
   "source": [
    "**Trouble Shooting**\n",
    "\n",
    "One main issue with CrypTen arose while working with the tutorials `@mpc.run_multiprocess(world_size=x)` was `RuntimeError: CUDA Initialization Error`. This can be resolved (I think) by using the following series of commands: \n",
    "\n",
    "```bash\n",
    "conda env config vars set CONDA_VISIBLE_DEVICES=\"\"\n",
    "conda deactivate\n",
    "conda activate crypten_env\n",
    "```\n",
    "\n",
    "These commands simply set the conda environment variable, deactivate and then reactivate the conda environment - this is necessary to make sure that the environment variables are set properly"
   ]
  },
  {
   "cell_type": "markdown",
   "metadata": {},
   "source": [
    "<h3 style=\"color:LightSalmon\"> "
   ]
  }
 ],
 "metadata": {
  "kernelspec": {
   "display_name": "crypten_env",
   "language": "python",
   "name": "python3"
  },
  "language_info": {
   "codemirror_mode": {
    "name": "ipython",
    "version": 3
   },
   "file_extension": ".py",
   "mimetype": "text/x-python",
   "name": "python",
   "nbconvert_exporter": "python",
   "pygments_lexer": "ipython3",
   "version": "3.7.16"
  }
 },
 "nbformat": 4,
 "nbformat_minor": 2
}
