{
 "cells": [
  {
   "cell_type": "markdown",
   "metadata": {},
   "source": [
    "<h1 style=\"color:DarkTurquoise\"> CrypTen Introduction / First Attempt </h1> \n",
    "\n",
    "This file contains code and notes for running the first implementation of CrypTen that I have tried. \n",
    "\n",
    "\n",
    "**NOTE**: once initial attempt is complete, please move this back into the crypten_case_studies folder within the driverdrowsiness application folder"
   ]
  },
  {
   "cell_type": "code",
   "execution_count": 2,
   "metadata": {},
   "outputs": [],
   "source": [
    "from models.compactcnn import CompactCNN\n",
    "import torch\n",
    "import crypten\n",
    "import crypten.mpc as mpc \n",
    "import crypten.communicator as comm "
   ]
  },
  {
   "cell_type": "code",
   "execution_count": 4,
   "metadata": {},
   "outputs": [],
   "source": [
    "# define the parties involved\n",
    "ALICE = 0\n",
    "BOB = 1"
   ]
  },
  {
   "cell_type": "code",
   "execution_count": 3,
   "metadata": {},
   "outputs": [],
   "source": [
    "# separate the labels and the data points themselves into separate \".pth\" files to be compatible with CrypTen's system\n",
    "\n",
    "labels = torch.load(\"\")"
   ]
  },
  {
   "cell_type": "code",
   "execution_count": null,
   "metadata": {},
   "outputs": [],
   "source": [
    "def compute_accuracy(output, labels):\n",
    "    # need to convert this to cpu or numpy? experiment once multiprocess decorator begins to work properly\n",
    "    pred = output.argmax(axis=-1)\n",
    "    correct = pred.eq(labels)\n",
    "    correct_count = correct.sum(0, keepdim=True).float()\n",
    "    accuracy = correct_count.mul_(100.0 / output.size(0))\n",
    "    return accuracy\n",
    "\n",
    "@mpc.run_multiprocess(world_size=2)\n",
    "def evaluate_model():\n",
    "    # load pre-trained model to Alice\n",
    "    model = crypten.load_from_party(\"pretrained/sub9/model.pth\", src=ALICE)\n",
    "\n",
    "    # encrypt the model from Alice\n",
    "    dummy_input = torch.empty((1,1,384))\n",
    "    private_model = crypten.nn.from_pytorch(model, dummy_input)\n",
    "    private_model.encrypt(src=ALICE)\n",
    "\n",
    "    # load data to Bob\n",
    "    features = crypten.load_from_party(\"\", src=BOB)\n",
    "    # is this step necessary? try it out once the multiprocess thing works properly\n",
    "    flattened_features = features.flatten(start_dim=1)\n",
    "\n",
    "    # classify the encrypted data\n",
    "    private_model.eval()\n",
    "    output_enc = private_model(flattened_features)\n",
    "\n",
    "    # compute the accuracy\n",
    "    output = output_enc.gen_plain_text()\n",
    "    accuracy = compute_accuracy(output, labels)\n",
    "    crypten.print(\"\\tAccuracy: {0:.4f}\".format(accuracy.item()))"
   ]
  }
 ],
 "metadata": {
  "kernelspec": {
   "display_name": "crypten_env",
   "language": "python",
   "name": "python3"
  },
  "language_info": {
   "codemirror_mode": {
    "name": "ipython",
    "version": 3
   },
   "file_extension": ".py",
   "mimetype": "text/x-python",
   "name": "python",
   "nbconvert_exporter": "python",
   "pygments_lexer": "ipython3",
   "version": "3.7.16"
  }
 },
 "nbformat": 4,
 "nbformat_minor": 2
}
